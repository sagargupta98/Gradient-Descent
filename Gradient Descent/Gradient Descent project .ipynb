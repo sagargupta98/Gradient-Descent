{
 "cells": [
  {
   "cell_type": "markdown",
   "metadata": {},
   "source": [
    "## Linear Regression using Gradient Descent\n",
    "\n",
    "In case of linear regression, Optimization techniques are very important. These techniques are used to obtain a closer approximations of the parameters for a given training datasets. \n",
    "\n",
    "Gradient Descent algorithm is one of the optimization technique, that minimizes functions. For a given function defined by a set of parameters, gradient descent starts with an initial set of parameter values and iteratively moves toward a set of parameter values that minimize the function.\n",
    "\n",
    "Suppose we consider a model that follows a linear model and is dependent on a single variable(x).\n",
    "For such a model we define our Hypothesis fuction as: $$h(x^{(i)}) = θ_0 + θ_1x^{(i)}$$\n",
    "Also we define a cost function,\n",
    "$$J(θ)=\\frac{1}{2m}\\sum_{i=1}^m(h_θ(x^{(i)})−y^{(i)})^2$$\n",
    "We try to obtimize this cost function to obtain our set of parameters, and use the Gradient Descent algorithm.\n",
    "\n",
    "The algorithm states:\n",
    "\n",
    "$$temp_0:=θ_0−α\\frac{∂}{∂θ_0}J(θ_0,θ_1)$$\n",
    "$$temp_1:=θ_1−α\\frac{∂}{∂θ_1}J(θ_0,θ_1)$$\n",
    "$$θ_0=temp_0$$\n",
    "$$θ_1=temp_1$$\n",
    "\n",
    "iterating this till we obtimize the cost function.\n",
    "\n",
    "There are mainly two types of Gradient Descent method:\n",
    "1. Batch Gradient Descent\n",
    "2. Stochastic gradient descent\n"
   ]
  },
  {
   "cell_type": "markdown",
   "metadata": {},
   "source": [
    "We import all the necessary packages."
   ]
  },
  {
   "cell_type": "code",
   "execution_count": 1,
   "metadata": {
    "collapsed": true
   },
   "outputs": [],
   "source": [
    "import numpy as np\n",
    "import matplotlib.pyplot as plt\n",
    "import pandas as pd"
   ]
  },
  {
   "cell_type": "markdown",
   "metadata": {},
   "source": [
    "We set the dependent and the independent variables, for which we want to carry out our linear regression on.\n",
    "The Dataset used here provides the data about \"Number of Airline Passenger for every month during 1949-1960\" "
   ]
  },
  {
   "cell_type": "code",
   "execution_count": 3,
   "metadata": {},
   "outputs": [
    {
     "data": {
      "image/png": "[encoded data removed]",
      "text/plain": [
       "<matplotlib.figure.Figure at 0x1156ac750>"
      ]
     },
     "metadata": {},
     "output_type": "display_data"
    }
   ],
   "source": [
    "filepath = pd.read_csv(\"/Volumes/DebabrataHD/SANU/SANU LAPTOP/Laptop_Backup(4.10.17)/UBUNTU stuff/Home/Intern_summer_17/Questions_Summer_17/Gradient Descent/AirPassengers.csv\")\n",
    "\n",
    "\n",
    "df = pd.DataFrame(filepath)\n",
    "df.head()\n",
    "\n",
    "x = df[\"time\"].values\n",
    "y = df[\"AirPassengers\"].values\n",
    "plt.scatter(x,y)\n",
    "plt.xlabel(\"Year\")\n",
    "plt.ylabel(\"Number of Airline Passengers\")\n",
    "plt.show()"
   ]
  },
  {
   "cell_type": "markdown",
   "metadata": {},
   "source": [
    "As both the variables have different range, we need to normalise both of them, this is done by subtracting each element with the mean and dividing by the std. deviation"
   ]
  },
  {
   "cell_type": "code",
   "execution_count": 4,
   "metadata": {},
   "outputs": [
    {
     "data": {
      "image/png": "[encoded data removed]",
      "text/plain": [
       "<matplotlib.figure.Figure at 0x1156ac590>"
      ]
     },
     "metadata": {},
     "output_type": "display_data"
    }
   ],
   "source": [
    "x = (x - np.average(x)) / np.std(x)\n",
    "y = (y - np.average(y)) / np.std(y)\n",
    "plt.scatter(x,y)\n",
    "plt.show()"
   ]
  },
  {
   "cell_type": "code",
   "execution_count": 5,
   "metadata": {
    "collapsed": true
   },
   "outputs": [],
   "source": [
    "theta_0 = 0\n",
    "theta_1 = 0\n",
    "hypothesis = theta_0 + theta_1 * x"
   ]
  },
  {
   "cell_type": "code",
   "execution_count": 6,
   "metadata": {
    "collapsed": true
   },
   "outputs": [],
   "source": [
    "m = len(x)\n",
    "alpha = 1 #0.01, 0.001, 0.0001  (These are the different values we can try for alpha)\n",
    "num_iterations = 50 #, 1000, 5000 .. ..   (These are the different different number of iterations we can try)"
   ]
  },
  {
   "cell_type": "code",
   "execution_count": 7,
   "metadata": {},
   "outputs": [
    {
     "data": {
      "text/plain": [
       "-0.92392541127689654"
      ]
     },
     "execution_count": 7,
     "metadata": {},
     "output_type": "execute_result"
    }
   ],
   "source": [
    "gradient = sum([(hypothesis[i] - y[i]) * x[i] for i in range(m)]) / m\n",
    "alpha * (gradient)"
   ]
  },
  {
   "cell_type": "code",
   "execution_count": 8,
   "metadata": {},
   "outputs": [
    {
     "data": {
      "text/plain": [
       "0.50000000000000011"
      ]
     },
     "execution_count": 8,
     "metadata": {},
     "output_type": "execute_result"
    }
   ],
   "source": [
    "cost_function = sum([(hypothesis[i] - y[i])**2 for i in range(m)]) / (2 * m)\n",
    "cost_function"
   ]
  },
  {
   "cell_type": "code",
   "execution_count": 9,
   "metadata": {},
   "outputs": [
    {
     "name": "stdout",
     "output_type": "stream",
     "text": [
      "-3.01325322718e-14 0.923925411277\n"
     ]
    }
   ],
   "source": [
    "theta_0_list = []\n",
    "theta_1_list = []\n",
    "for i in range(num_iterations):\n",
    "    hypothesis = theta_0 + theta_1 * x\n",
    "    gradient_0 = sum([(hypothesis[i] - y[i]) for i in range(m)]) / m\n",
    "    gradient_1 = sum([(hypothesis[i] - y[i]) * x[i] for i in range(m)]) / m\n",
    "    theta_0_temp = theta_0 - (alpha * gradient_0)\n",
    "    theta_1_temp = theta_1 - (alpha * gradient_1)\n",
    "    theta_0 = theta_0_temp\n",
    "    theta_1 = theta_1_temp\n",
    "    theta_0_list.append(theta_0)\n",
    "    theta_1_list.append(theta_1)\n",
    "    \n",
    "print theta_0, theta_1"
   ]
  },
  {
   "cell_type": "code",
   "execution_count": 10,
   "metadata": {},
   "outputs": [
    {
     "data": {
      "image/png": "[encoded data removed]",
      "text/plain": [
       "<matplotlib.figure.Figure at 0x11a737fd0>"
      ]
     },
     "metadata": {},
     "output_type": "display_data"
    }
   ],
   "source": [
    "plt.plot(x, theta_0 + theta_1 * x)\n",
    "plt.scatter(x,y)\n",
    "plt.show()"
   ]
  },
  {
   "cell_type": "code",
   "execution_count": 11,
   "metadata": {},
   "outputs": [
    {
     "data": {
      "image/png": "[encoded data removed]",
      "text/plain": [
       "<matplotlib.figure.Figure at 0x11a816250>"
      ]
     },
     "metadata": {},
     "output_type": "display_data"
    }
   ],
   "source": [
    "z = [i for i in range(num_iterations)]\n",
    "plt.plot(theta_0_list,z)\n",
    "plt.show()"
   ]
  },
  {
   "cell_type": "code",
   "execution_count": 12,
   "metadata": {},
   "outputs": [
    {
     "data": {
      "image/png": "[encoded data removed]",
      "text/plain": [
       "<matplotlib.figure.Figure at 0x11a8202d0>"
      ]
     },
     "metadata": {},
     "output_type": "display_data"
    }
   ],
   "source": [
    "plt.plot(theta_1_list, z)\n",
    "plt.show()"
   ]
  },
  {
   "cell_type": "code",
   "execution_count": null,
   "metadata": {
    "collapsed": true
   },
   "outputs": [],
   "source": []
  },
  {
   "cell_type": "code",
   "execution_count": null,
   "metadata": {
    "collapsed": true
   },
   "outputs": [],
   "source": []
  }
 ],
 "metadata": {
  "kernelspec": {
   "display_name": "Python 2",
   "language": "python",
   "name": "python2"
  },
  "language_info": {
   "codemirror_mode": {
    "name": "ipython",
    "version": 2
   },
   "file_extension": ".py",
   "mimetype": "text/x-python",
   "name": "python",
   "nbconvert_exporter": "python",
   "pygments_lexer": "ipython2",
   "version": "2.7.14"
  }
 },
 "nbformat": 4,
 "nbformat_minor": 2
}
